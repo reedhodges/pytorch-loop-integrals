{
  "cells": [
    {
      "cell_type": "markdown",
      "metadata": {
        "colab_type": "text",
        "id": "view-in-github"
      },
      "source": [
        "<a href=\"https://colab.research.google.com/github/reedhodges/pytorch-loop-integrals/blob/main/pytorch_loop_integrals.ipynb\" target=\"_parent\"><img src=\"https://colab.research.google.com/assets/colab-badge.svg\" alt=\"Open In Colab\"/></a>"
      ]
    },
    {
      "cell_type": "markdown",
      "metadata": {},
      "source": [
        "# Using PyTorch to classify loop integrals by the type of their divergence"
      ]
    },
    {
      "cell_type": "markdown",
      "metadata": {},
      "source": [
        "Before starting, run all the cells in the 'Preliminaries' section to make sure you've downloaded all the necessary files."
      ]
    },
    {
      "cell_type": "markdown",
      "metadata": {},
      "source": [
        "### Preliminaries"
      ]
    },
    {
      "cell_type": "code",
      "execution_count": 19,
      "metadata": {
        "id": "_MHsMLuPvVtd"
      },
      "outputs": [
        {
          "name": "stdout",
          "output_type": "stream",
          "text": [
            "[INFO] Directory data already exists, skipping download.\n",
            "[INFO] File engine.py already exists, skipping download.\n",
            "[INFO] File utils.py already exists, skipping download.\n",
            "[INFO] Done!\n"
          ]
        }
      ],
      "source": [
        "import torch\n",
        "import requests\n",
        "import zipfile\n",
        "from pathlib import Path\n",
        "\n",
        "device = \"cuda\" if torch.cuda.is_available() else \"cpu\"\n",
        "\n",
        "path_to_data = Path(\"data/\")\n",
        "\n",
        "if path_to_data.is_dir():\n",
        "    print(f\"[INFO] Directory {path_to_data} already exists, skipping download.\")\n",
        "else:\n",
        "    print(f\"[INFO] Creating {path_to_data} directory...\")\n",
        "    path_to_data.mkdir(parents=True, exist_ok=True)\n",
        "    with open(\"integrand_data.zip\", \"wb\") as f:\n",
        "        url = \"https://github.com/reedhodges/pytorch-loop-integrals/raw/main/integrand_data.zip\"\n",
        "        response = requests.get(url)\n",
        "        print(f\"[INFO] Downloading zip from {url}...\")\n",
        "        f.write(response.content)\n",
        "\n",
        "    with zipfile.ZipFile(\"integrand_data.zip\", \"r\") as zip_ref:\n",
        "        print(f\"[INFO] Extracting zip...\")\n",
        "        zip_ref.extractall()\n",
        "\n",
        "files_to_download = [\n",
        "    {\"path\": \"engine.py\", \"url\": \"https://raw.githubusercontent.com/reedhodges/pytorch-loop-integrals/main/engine.py\"},\n",
        "    {\"path\": \"utils.py\", \"url\": \"https://raw.githubusercontent.com/reedhodges/pytorch-loop-integrals/main/utils.py\"}\n",
        "]\n",
        "\n",
        "for file_info in files_to_download:\n",
        "    file_path = file_info[\"path\"]\n",
        "    file_url = file_info[\"url\"]\n",
        "    if not Path(file_path).is_file():\n",
        "        print(f\"[INFO] Downloading {file_path}...\")\n",
        "        with open(file_path, \"wb\") as f:\n",
        "            response = requests.get(file_url)\n",
        "            f.write(response.content)\n",
        "    else:\n",
        "        print(f\"[INFO] File {file_path} already exists, skipping download.\")\n",
        "\n",
        "print(f\"[INFO] Done!\")"
      ]
    },
    {
      "cell_type": "markdown",
      "metadata": {},
      "source": [
        "### Set up data and model"
      ]
    },
    {
      "cell_type": "code",
      "execution_count": 41,
      "metadata": {},
      "outputs": [],
      "source": [
        "image_path_list = list(path_to_data.glob(\"*/*/*.png\"))"
      ]
    },
    {
      "cell_type": "code",
      "execution_count": 21,
      "metadata": {},
      "outputs": [],
      "source": [
        "from utils import fix_error_with_weights_download\n",
        "from torchvision.models import efficientnet_b0, EfficientNet_B0_Weights\n",
        "\n",
        "# this is a hack to fix the weights download issue\n",
        "fix_error_with_weights_download()\n",
        "\n",
        "weights = EfficientNet_B0_Weights.DEFAULT\n",
        "model = efficientnet_b0(weights=weights).to(device)\n",
        "\n",
        "data_transform = weights.transforms()\n",
        "\n",
        "for param in model.features.parameters():\n",
        "    param.requires_grad = False"
      ]
    },
    {
      "cell_type": "markdown",
      "metadata": {},
      "source": [
        "### Train"
      ]
    },
    {
      "cell_type": "code",
      "execution_count": 52,
      "metadata": {},
      "outputs": [
        {
          "name": "stderr",
          "output_type": "stream",
          "text": [
            "  0%|          | 0/3 [00:00<?, ?it/s]"
          ]
        },
        {
          "name": "stderr",
          "output_type": "stream",
          "text": [
            " 33%|███▎      | 1/3 [02:32<05:04, 152.22s/it]"
          ]
        },
        {
          "name": "stdout",
          "output_type": "stream",
          "text": [
            "\n",
            "------------------------------\n",
            "\n",
            "Epoch 1\n",
            "Train Loss: 0.7174, Train Accuracy: 0.6750\n",
            "Test Loss:  0.7240, Test Accuracy:  0.7200\n"
          ]
        },
        {
          "name": "stderr",
          "output_type": "stream",
          "text": [
            " 67%|██████▋   | 2/3 [05:03<02:31, 151.48s/it]"
          ]
        },
        {
          "name": "stdout",
          "output_type": "stream",
          "text": [
            "\n",
            "------------------------------\n",
            "\n",
            "Epoch 2\n",
            "Train Loss: 0.5855, Train Accuracy: 0.7400\n",
            "Test Loss:  0.6200, Test Accuracy:  0.7450\n"
          ]
        },
        {
          "name": "stderr",
          "output_type": "stream",
          "text": [
            "100%|██████████| 3/3 [07:34<00:00, 151.50s/it]"
          ]
        },
        {
          "name": "stdout",
          "output_type": "stream",
          "text": [
            "\n",
            "------------------------------\n",
            "\n",
            "Epoch 3\n",
            "Train Loss: 0.5858, Train Accuracy: 0.7600\n",
            "Test Loss:  0.5789, Test Accuracy:  0.7450\n"
          ]
        },
        {
          "name": "stderr",
          "output_type": "stream",
          "text": [
            "\n"
          ]
        }
      ],
      "source": [
        "import os\n",
        "from torch import nn, optim\n",
        "from engine import create_data_loaders, train\n",
        "\n",
        "BATCH_SIZE = 32\n",
        "NUM_WORKERS = os.cpu_count()\n",
        "NUM_EPOCHS = 3\n",
        "\n",
        "train_loader, test_loader, class_names, class_dict = create_data_loaders(path_to_data, batch_size=BATCH_SIZE, num_workers=NUM_WORKERS, train_transform=data_transform, test_transform=data_transform)\n",
        "\n",
        "model.classifier = nn.Sequential(\n",
        "    nn.Dropout(p=0.2, inplace=True),\n",
        "    nn.Linear(in_features=1280,\n",
        "              out_features=len(class_names)).to(device)\n",
        ")\n",
        "\n",
        "loss_fn = nn.CrossEntropyLoss()\n",
        "optimizer = optim.Adam(model.parameters(), lr=0.001)\n",
        "\n",
        " \n",
        "train(device, model, train_loader, test_loader, loss_fn, optimizer, epochs=NUM_EPOCHS)"
      ]
    },
    {
      "cell_type": "code",
      "execution_count": null,
      "metadata": {},
      "outputs": [],
      "source": []
    }
  ],
  "metadata": {
    "colab": {
      "authorship_tag": "ABX9TyNelMyb4UOclRPWI0D6bGvz",
      "include_colab_link": true,
      "provenance": []
    },
    "kernelspec": {
      "display_name": "Python 3",
      "name": "python3"
    },
    "language_info": {
      "codemirror_mode": {
        "name": "ipython",
        "version": 3
      },
      "file_extension": ".py",
      "mimetype": "text/x-python",
      "name": "python",
      "nbconvert_exporter": "python",
      "pygments_lexer": "ipython3",
      "version": "3.10.13"
    }
  },
  "nbformat": 4,
  "nbformat_minor": 0
}
