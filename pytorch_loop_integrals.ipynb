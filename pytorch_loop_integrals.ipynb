{
  "cells": [
    {
      "cell_type": "markdown",
      "metadata": {
        "colab_type": "text",
        "id": "view-in-github"
      },
      "source": [
        "<a href=\"https://colab.research.google.com/github/reedhodges/pytorch-loop-integrals/blob/main/pytorch_loop_integrals.ipynb\" target=\"_parent\"><img src=\"https://colab.research.google.com/assets/colab-badge.svg\" alt=\"Open In Colab\"/></a>"
      ]
    },
    {
      "cell_type": "markdown",
      "metadata": {},
      "source": [
        "# Using PyTorch to classify loop integrals by the type of their divergence"
      ]
    },
    {
      "cell_type": "markdown",
      "metadata": {},
      "source": [
        "Before starting, run all the cells in the 'Preliminaries' section to make sure you've downloaded all the necessary files."
      ]
    },
    {
      "cell_type": "code",
      "execution_count": 2,
      "metadata": {},
      "outputs": [
        {
          "name": "stdout",
          "output_type": "stream",
          "text": [
            "2.3.0.dev20240314\n",
            "0.18.0.dev20240314\n",
            "Device: cpu\n"
          ]
        }
      ],
      "source": [
        "import torch\n",
        "import torchvision\n",
        "\n",
        "print(torch.__version__)\n",
        "print(torchvision.__version__)\n",
        "\n",
        "device = \"cuda\" if torch.cuda.is_available() else \"cpu\"\n",
        "\n",
        "print(f\"Device: {device}\")"
      ]
    },
    {
      "cell_type": "markdown",
      "metadata": {},
      "source": [
        "#### Optional: using GPU-accelerated PyTorch on Apple Silicon Macs"
      ]
    },
    {
      "cell_type": "markdown",
      "metadata": {},
      "source": [
        "If you have an Apple Silicon Mac, you can use GPU-accelerated PyTorch, but you need to install the Preview (Nightly) version of PyTorch.  You can set up a Python virtual environment with the following in the command line:\n",
        "\n",
        "```zsh\n",
        "python -m venv pytorch-nightly\n",
        "```\n",
        "\n",
        "Activate the virtual environment with:\n",
        "\n",
        "```zsh\n",
        "source pytorch-nightly/bin/activate\n",
        "```\n",
        "\n",
        "Then install the Preview (Nightly) version of PyTorch, followed by whatever other packages are necessary.\n",
        "\n",
        "```zsh\n",
        "pip install --pre torch torchvision torchaudio --index-url https://download.pytorch.org/whl/nightly/cpu\n",
        "```\n",
        "\n",
        "Make sure the Jupyter kernel is set to use this virtual environment.  If you have successfully installed the Nightly build, the PyTorch version should have `dev` in it."
      ]
    },
    {
      "cell_type": "code",
      "execution_count": 1,
      "metadata": {},
      "outputs": [
        {
          "name": "stdout",
          "output_type": "stream",
          "text": [
            "2.3.0.dev20240314\n",
            "0.18.0.dev20240314\n"
          ]
        }
      ],
      "source": [
        "import torch\n",
        "import torchvision\n",
        "\n",
        "print(torch.__version__)\n",
        "print(torchvision.__version__)"
      ]
    },
    {
      "cell_type": "markdown",
      "metadata": {},
      "source": [
        "If everything works, the following should output a tensor with a single one that is stored on the `mps` device."
      ]
    },
    {
      "cell_type": "code",
      "execution_count": 2,
      "metadata": {},
      "outputs": [
        {
          "name": "stdout",
          "output_type": "stream",
          "text": [
            "tensor([1.], device='mps:0')\n"
          ]
        }
      ],
      "source": [
        "if torch.backends.mps.is_available():\n",
        "    mps_device = torch.device(\"mps\")\n",
        "    x = torch.ones(1, device=mps_device)\n",
        "    print (x)\n",
        "else:\n",
        "    print (\"MPS device not found.\")"
      ]
    },
    {
      "cell_type": "markdown",
      "metadata": {},
      "source": [
        "Let's set the device to \"mps\" for our training later."
      ]
    },
    {
      "cell_type": "code",
      "execution_count": 3,
      "metadata": {},
      "outputs": [
        {
          "name": "stdout",
          "output_type": "stream",
          "text": [
            "Device: mps\n"
          ]
        }
      ],
      "source": [
        "import torch\n",
        "\n",
        "device = \"mps\" if torch.backends.mps.is_available() else print(\"MPS device not found.\")\n",
        "print(f\"Device: {device}\")"
      ]
    },
    {
      "cell_type": "markdown",
      "metadata": {},
      "source": [
        "### Preliminaries"
      ]
    },
    {
      "cell_type": "code",
      "execution_count": 4,
      "metadata": {
        "id": "_MHsMLuPvVtd"
      },
      "outputs": [
        {
          "name": "stdout",
          "output_type": "stream",
          "text": [
            "[INFO] Directory data already exists, skipping download.\n",
            "[INFO] File engine.py already exists, skipping download.\n",
            "[INFO] File utils.py already exists, skipping download.\n",
            "[INFO] Done!\n"
          ]
        }
      ],
      "source": [
        "import requests\n",
        "import zipfile\n",
        "from pathlib import Path\n",
        "\n",
        "path_to_data = Path(\"data/\")\n",
        "\n",
        "if path_to_data.is_dir():\n",
        "    print(f\"[INFO] Directory {path_to_data} already exists, skipping download.\")\n",
        "else:\n",
        "    print(f\"[INFO] Creating {path_to_data} directory...\")\n",
        "    path_to_data.mkdir(parents=True, exist_ok=True)\n",
        "    with open(\"integrand_data.zip\", \"wb\") as f:\n",
        "        url = \"https://github.com/reedhodges/pytorch-loop-integrals/raw/main/integrand_data.zip\"\n",
        "        response = requests.get(url)\n",
        "        print(f\"[INFO] Downloading zip from {url}...\")\n",
        "        f.write(response.content)\n",
        "\n",
        "    with zipfile.ZipFile(\"integrand_data.zip\", \"r\") as zip_ref:\n",
        "        print(f\"[INFO] Extracting zip...\")\n",
        "        zip_ref.extractall()\n",
        "\n",
        "files_to_download = [\n",
        "    {\"path\": \"engine.py\", \"url\": \"https://raw.githubusercontent.com/reedhodges/pytorch-loop-integrals/main/engine.py\"},\n",
        "    {\"path\": \"utils.py\", \"url\": \"https://raw.githubusercontent.com/reedhodges/pytorch-loop-integrals/main/utils.py\"}\n",
        "]\n",
        "\n",
        "for file_info in files_to_download:\n",
        "    file_path = file_info[\"path\"]\n",
        "    file_url = file_info[\"url\"]\n",
        "    if not Path(file_path).is_file():\n",
        "        print(f\"[INFO] Downloading {file_path}...\")\n",
        "        with open(file_path, \"wb\") as f:\n",
        "            response = requests.get(file_url)\n",
        "            f.write(response.content)\n",
        "    else:\n",
        "        print(f\"[INFO] File {file_path} already exists, skipping download.\")\n",
        "\n",
        "print(f\"[INFO] Done!\")"
      ]
    },
    {
      "cell_type": "markdown",
      "metadata": {},
      "source": [
        "### Set up data and model"
      ]
    },
    {
      "cell_type": "code",
      "execution_count": 5,
      "metadata": {},
      "outputs": [],
      "source": [
        "from utils import fix_error_with_weights_download\n",
        "from torchvision.models import efficientnet_b0, EfficientNet_B0_Weights\n",
        "\n",
        "image_path_list = list(path_to_data.glob(\"*/*/*.png\"))\n",
        "\n",
        "# this is a hack to fix the weights download issue\n",
        "fix_error_with_weights_download()\n",
        "\n",
        "weights = EfficientNet_B0_Weights.DEFAULT\n",
        "model = efficientnet_b0(weights=weights).to(device)\n",
        "\n",
        "data_transform = weights.transforms()\n",
        "\n",
        "for param in model.features.parameters():\n",
        "    param.requires_grad = False"
      ]
    },
    {
      "cell_type": "markdown",
      "metadata": {},
      "source": [
        "### Train"
      ]
    },
    {
      "cell_type": "markdown",
      "metadata": {},
      "source": [
        "To use experiment tracking, you'll need a [Weights & Biases account](https://wandb.ai/site), which is free for personal use.  "
      ]
    },
    {
      "cell_type": "code",
      "execution_count": null,
      "metadata": {},
      "outputs": [],
      "source": [
        "import wandb\n",
        "\n",
        "wandb.login()"
      ]
    },
    {
      "cell_type": "code",
      "execution_count": 6,
      "metadata": {},
      "outputs": [
        {
          "name": "stderr",
          "output_type": "stream",
          "text": [
            " 33%|███▎      | 1/3 [01:26<02:52, 86.11s/it]"
          ]
        },
        {
          "name": "stdout",
          "output_type": "stream",
          "text": [
            "\n",
            "------------------------------\n",
            "\n",
            "Epoch 1\n",
            "Train Loss: 0.7053, Train Accuracy: 70.75\n",
            "Test Loss:  0.7493, Test Accuracy:  76.50\n"
          ]
        },
        {
          "name": "stderr",
          "output_type": "stream",
          "text": [
            " 67%|██████▋   | 2/3 [02:50<01:25, 85.29s/it]"
          ]
        },
        {
          "name": "stdout",
          "output_type": "stream",
          "text": [
            "\n",
            "------------------------------\n",
            "\n",
            "Epoch 2\n",
            "Train Loss: 0.5768, Train Accuracy: 77.25\n",
            "Test Loss:  0.5434, Test Accuracy:  79.50\n"
          ]
        },
        {
          "name": "stderr",
          "output_type": "stream",
          "text": [
            "100%|██████████| 3/3 [04:16<00:00, 85.54s/it]"
          ]
        },
        {
          "name": "stdout",
          "output_type": "stream",
          "text": [
            "\n",
            "------------------------------\n",
            "\n",
            "Epoch 3\n",
            "Train Loss: 0.5202, Train Accuracy: 79.38\n",
            "Test Loss:  0.5839, Test Accuracy:  78.00\n"
          ]
        },
        {
          "name": "stderr",
          "output_type": "stream",
          "text": [
            "\n"
          ]
        }
      ],
      "source": [
        "import os\n",
        "from torch import nn, optim\n",
        "from engine import create_data_loaders, train\n",
        "\n",
        "BATCH_SIZE = 32\n",
        "NUM_WORKERS = os.cpu_count()\n",
        "NUM_EPOCHS = 3\n",
        "\n",
        "train_loader, test_loader, class_names, class_dict = create_data_loaders(path_to_data, batch_size=BATCH_SIZE, num_workers=NUM_WORKERS, train_transform=data_transform, test_transform=data_transform)\n",
        "\n",
        "model.classifier = nn.Sequential(\n",
        "    nn.Dropout(p=0.2, inplace=True),\n",
        "    nn.Linear(in_features=1280,\n",
        "              out_features=len(class_names)).to(device)\n",
        ")\n",
        "\n",
        "loss_fn = nn.CrossEntropyLoss()\n",
        "optimizer = optim.Adam(model.parameters(), lr=0.001)\n",
        "\n",
        "wandb.init(project=\"pytorch-loop-integrals\",\n",
        "           config={\"batch_size\": BATCH_SIZE,\n",
        "                   \"num_workers\": NUM_WORKERS,\n",
        "                   \"num_epochs\": NUM_EPOCHS,\n",
        "                   \"Loss Function\": str(loss_fn),\n",
        "                   \"Optimizer\": str(optimizer)})\n",
        " \n",
        "train(device, model, train_loader, test_loader, loss_fn, optimizer, epochs=NUM_EPOCHS)"
      ]
    }
  ],
  "metadata": {
    "colab": {
      "authorship_tag": "ABX9TyNelMyb4UOclRPWI0D6bGvz",
      "include_colab_link": true,
      "provenance": []
    },
    "kernelspec": {
      "display_name": "Python 3",
      "name": "python3"
    },
    "language_info": {
      "codemirror_mode": {
        "name": "ipython",
        "version": 3
      },
      "file_extension": ".py",
      "mimetype": "text/x-python",
      "name": "python",
      "nbconvert_exporter": "python",
      "pygments_lexer": "ipython3",
      "version": "3.10.13"
    }
  },
  "nbformat": 4,
  "nbformat_minor": 0
}
