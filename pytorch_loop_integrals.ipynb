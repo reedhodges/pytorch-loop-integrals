{
  "cells": [
    {
      "cell_type": "markdown",
      "metadata": {
        "colab_type": "text",
        "id": "view-in-github"
      },
      "source": [
        "<a href=\"https://colab.research.google.com/github/reedhodges/pytorch-loop-integrals/blob/main/pytorch_loop_integrals.ipynb\" target=\"_parent\"><img src=\"https://colab.research.google.com/assets/colab-badge.svg\" alt=\"Open In Colab\"/></a>"
      ]
    },
    {
      "cell_type": "markdown",
      "metadata": {},
      "source": [
        "# Using PyTorch to classify loop integrals by the type of their divergence"
      ]
    },
    {
      "cell_type": "markdown",
      "metadata": {},
      "source": [
        "Before starting, run all the cells in the 'Preliminaries' section to make sure you've downloaded all the necessary files."
      ]
    },
    {
      "cell_type": "code",
      "execution_count": 1,
      "metadata": {},
      "outputs": [
        {
          "name": "stdout",
          "output_type": "stream",
          "text": [
            "2.3.0.dev20240314\n",
            "0.18.0.dev20240314\n",
            "Device: cpu\n"
          ]
        }
      ],
      "source": [
        "import torch\n",
        "import torchvision\n",
        "\n",
        "print(torch.__version__)\n",
        "print(torchvision.__version__)\n",
        "\n",
        "device = \"cuda\" if torch.cuda.is_available() else \"cpu\"\n",
        "\n",
        "print(f\"Device: {device}\")"
      ]
    },
    {
      "cell_type": "markdown",
      "metadata": {},
      "source": [
        "#### Optional: using GPU-accelerated PyTorch on Apple Silicon Macs"
      ]
    },
    {
      "cell_type": "markdown",
      "metadata": {},
      "source": [
        "If you have an Apple Silicon Mac, you can use GPU-accelerated PyTorch, but you need to install the Preview (Nightly) version of PyTorch.  You can set up a Python virtual environment with the following in the command line:\n",
        "\n",
        "```zsh\n",
        "python -m venv pytorch-nightly\n",
        "```\n",
        "\n",
        "Activate the virtual environment with:\n",
        "\n",
        "```zsh\n",
        "source pytorch-nightly/bin/activate\n",
        "```\n",
        "\n",
        "Then install the Preview (Nightly) version of PyTorch, followed by whatever other packages are necessary.\n",
        "\n",
        "```zsh\n",
        "pip install --pre torch torchvision torchaudio --index-url https://download.pytorch.org/whl/nightly/cpu\n",
        "```\n",
        "\n",
        "Make sure the Jupyter kernel is set to use this virtual environment.  If you have successfully installed the Nightly build, the PyTorch version should have `dev` in it."
      ]
    },
    {
      "cell_type": "code",
      "execution_count": 1,
      "metadata": {},
      "outputs": [
        {
          "name": "stdout",
          "output_type": "stream",
          "text": [
            "2.3.0.dev20240314\n",
            "0.18.0.dev20240314\n"
          ]
        }
      ],
      "source": [
        "import torch\n",
        "import torchvision\n",
        "\n",
        "print(torch.__version__)\n",
        "print(torchvision.__version__)"
      ]
    },
    {
      "cell_type": "markdown",
      "metadata": {},
      "source": [
        "If everything works, the following should output a tensor with a single one that is stored on the `mps` device."
      ]
    },
    {
      "cell_type": "code",
      "execution_count": 2,
      "metadata": {},
      "outputs": [
        {
          "name": "stdout",
          "output_type": "stream",
          "text": [
            "tensor([1.], device='mps:0')\n"
          ]
        }
      ],
      "source": [
        "if torch.backends.mps.is_available():\n",
        "    mps_device = torch.device(\"mps\")\n",
        "    x = torch.ones(1, device=mps_device)\n",
        "    print (x)\n",
        "else:\n",
        "    print (\"MPS device not found.\")"
      ]
    },
    {
      "cell_type": "markdown",
      "metadata": {},
      "source": [
        "Let's set the device to \"mps\" for our training later."
      ]
    },
    {
      "cell_type": "code",
      "execution_count": 2,
      "metadata": {},
      "outputs": [
        {
          "name": "stdout",
          "output_type": "stream",
          "text": [
            "Device: mps\n"
          ]
        }
      ],
      "source": [
        "import torch\n",
        "\n",
        "device = \"mps\" if torch.backends.mps.is_available() else print(\"MPS device not found.\")\n",
        "print(f\"Device: {device}\")"
      ]
    },
    {
      "cell_type": "markdown",
      "metadata": {},
      "source": [
        "### Preliminaries"
      ]
    },
    {
      "cell_type": "code",
      "execution_count": 3,
      "metadata": {
        "id": "_MHsMLuPvVtd"
      },
      "outputs": [
        {
          "name": "stdout",
          "output_type": "stream",
          "text": [
            "[INFO] Directory data already exists, skipping download.\n",
            "[INFO] File engine.py already exists, skipping download.\n",
            "[INFO] File utils.py already exists, skipping download.\n",
            "[INFO] Done!\n"
          ]
        }
      ],
      "source": [
        "import requests\n",
        "import zipfile\n",
        "from pathlib import Path\n",
        "\n",
        "path_to_data = Path(\"data/\")\n",
        "\n",
        "if path_to_data.is_dir():\n",
        "    print(f\"[INFO] Directory {path_to_data} already exists, skipping download.\")\n",
        "else:\n",
        "    print(f\"[INFO] Creating {path_to_data} directory...\")\n",
        "    path_to_data.mkdir(parents=True, exist_ok=True)\n",
        "    with open(\"integrand_data.zip\", \"wb\") as f:\n",
        "        url = \"https://github.com/reedhodges/pytorch-loop-integrals/raw/main/integrand_data.zip\"\n",
        "        response = requests.get(url)\n",
        "        print(f\"[INFO] Downloading zip from {url}...\")\n",
        "        f.write(response.content)\n",
        "\n",
        "    with zipfile.ZipFile(\"integrand_data.zip\", \"r\") as zip_ref:\n",
        "        print(f\"[INFO] Extracting zip...\")\n",
        "        zip_ref.extractall()\n",
        "\n",
        "files_to_download = [\n",
        "    {\"path\": \"engine.py\", \"url\": \"https://raw.githubusercontent.com/reedhodges/pytorch-loop-integrals/main/engine.py\"},\n",
        "    {\"path\": \"utils.py\", \"url\": \"https://raw.githubusercontent.com/reedhodges/pytorch-loop-integrals/main/utils.py\"}\n",
        "]\n",
        "\n",
        "for file_info in files_to_download:\n",
        "    file_path = file_info[\"path\"]\n",
        "    file_url = file_info[\"url\"]\n",
        "    if not Path(file_path).is_file():\n",
        "        print(f\"[INFO] Downloading {file_path}...\")\n",
        "        with open(file_path, \"wb\") as f:\n",
        "            response = requests.get(file_url)\n",
        "            f.write(response.content)\n",
        "    else:\n",
        "        print(f\"[INFO] File {file_path} already exists, skipping download.\")\n",
        "\n",
        "print(f\"[INFO] Done!\")"
      ]
    },
    {
      "cell_type": "markdown",
      "metadata": {},
      "source": [
        "### Set up data and model"
      ]
    },
    {
      "cell_type": "code",
      "execution_count": 4,
      "metadata": {},
      "outputs": [],
      "source": [
        "from utils import fix_error_with_weights_download\n",
        "from torchvision.models import efficientnet_b0, EfficientNet_B0_Weights\n",
        "\n",
        "image_path_list = list(path_to_data.glob(\"*/*/*.png\"))\n",
        "\n",
        "# this is a hack to fix the weights download issue\n",
        "fix_error_with_weights_download()\n",
        "\n",
        "effnetb0_weights = EfficientNet_B0_Weights.DEFAULT\n",
        "effnetb0_model = efficientnet_b0(weights=effnetb0_weights).to(device)\n",
        "\n",
        "effnetb0_transform = effnetb0_weights.transforms()\n",
        "\n",
        "for param in effnetb0_model.features.parameters():\n",
        "    param.requires_grad = False"
      ]
    },
    {
      "cell_type": "code",
      "execution_count": 5,
      "metadata": {},
      "outputs": [
        {
          "name": "stderr",
          "output_type": "stream",
          "text": [
            "Downloading: \"https://download.pytorch.org/models/vit_b_16-c867db91.pth\" to /Users/reedhodges/.cache/torch/hub/checkpoints/vit_b_16-c867db91.pth\n",
            "100%|██████████| 330M/330M [00:19<00:00, 18.1MB/s] \n"
          ]
        }
      ],
      "source": [
        "from torchvision.models import ViT_B_16_Weights, vit_b_16\n",
        "\n",
        "image_path_list = list(path_to_data.glob(\"*/*/*.png\"))\n",
        "\n",
        "vitb16_weights = ViT_B_16_Weights.DEFAULT\n",
        "vitb16_model = vit_b_16(weights=vitb16_weights).to(device)\n",
        "\n",
        "vitb16_transform = vitb16_weights.transforms()\n",
        "\n",
        "for param in vitb16_model.parameters():\n",
        "    param.requires_grad = False"
      ]
    },
    {
      "cell_type": "markdown",
      "metadata": {},
      "source": [
        "### Train"
      ]
    },
    {
      "cell_type": "markdown",
      "metadata": {},
      "source": [
        "To use experiment tracking, you'll need a [Weights & Biases account](https://wandb.ai/site), which is free for personal use.  "
      ]
    },
    {
      "cell_type": "code",
      "execution_count": 6,
      "metadata": {},
      "outputs": [
        {
          "name": "stderr",
          "output_type": "stream",
          "text": [
            "Failed to detect the name of this notebook, you can set it manually with the WANDB_NOTEBOOK_NAME environment variable to enable code saving.\n",
            "\u001b[34m\u001b[1mwandb\u001b[0m: Currently logged in as: \u001b[33mreedhodges\u001b[0m. Use \u001b[1m`wandb login --relogin`\u001b[0m to force relogin\n"
          ]
        },
        {
          "data": {
            "text/plain": [
              "True"
            ]
          },
          "execution_count": 6,
          "metadata": {},
          "output_type": "execute_result"
        }
      ],
      "source": [
        "import wandb\n",
        "\n",
        "wandb.login()"
      ]
    },
    {
      "cell_type": "code",
      "execution_count": 7,
      "metadata": {},
      "outputs": [
        {
          "data": {
            "text/html": [
              "Tracking run with wandb version 0.16.4"
            ],
            "text/plain": [
              "<IPython.core.display.HTML object>"
            ]
          },
          "metadata": {},
          "output_type": "display_data"
        },
        {
          "data": {
            "text/html": [
              "Run data is saved locally in <code>/Users/reedhodges/Documents/GitHub/divergent_integrals_nn/wandb/run-20240318_132747-2myqlxwe</code>"
            ],
            "text/plain": [
              "<IPython.core.display.HTML object>"
            ]
          },
          "metadata": {},
          "output_type": "display_data"
        },
        {
          "data": {
            "text/html": [
              "Syncing run <strong><a href='https://wandb.ai/reedhodges/pytorch-loop-integrals/runs/2myqlxwe' target=\"_blank\">ruby-dawn-2</a></strong> to <a href='https://wandb.ai/reedhodges/pytorch-loop-integrals' target=\"_blank\">Weights & Biases</a> (<a href='https://wandb.me/run' target=\"_blank\">docs</a>)<br/>"
            ],
            "text/plain": [
              "<IPython.core.display.HTML object>"
            ]
          },
          "metadata": {},
          "output_type": "display_data"
        },
        {
          "data": {
            "text/html": [
              " View project at <a href='https://wandb.ai/reedhodges/pytorch-loop-integrals' target=\"_blank\">https://wandb.ai/reedhodges/pytorch-loop-integrals</a>"
            ],
            "text/plain": [
              "<IPython.core.display.HTML object>"
            ]
          },
          "metadata": {},
          "output_type": "display_data"
        },
        {
          "data": {
            "text/html": [
              " View run at <a href='https://wandb.ai/reedhodges/pytorch-loop-integrals/runs/2myqlxwe' target=\"_blank\">https://wandb.ai/reedhodges/pytorch-loop-integrals/runs/2myqlxwe</a>"
            ],
            "text/plain": [
              "<IPython.core.display.HTML object>"
            ]
          },
          "metadata": {},
          "output_type": "display_data"
        },
        {
          "name": "stderr",
          "output_type": "stream",
          "text": [
            " 20%|██        | 1/5 [02:09<08:37, 129.36s/it]"
          ]
        },
        {
          "name": "stdout",
          "output_type": "stream",
          "text": [
            "\n",
            "------------------------------\n",
            "\n",
            "Epoch 1\n",
            "Train Loss: 0.7107, Train Accuracy: 72.75\n",
            "Test Loss:  0.7233, Test Accuracy:  74.00\n"
          ]
        },
        {
          "name": "stderr",
          "output_type": "stream",
          "text": [
            " 40%|████      | 2/5 [03:34<05:10, 103.47s/it]"
          ]
        },
        {
          "name": "stdout",
          "output_type": "stream",
          "text": [
            "\n",
            "------------------------------\n",
            "\n",
            "Epoch 2\n",
            "Train Loss: 0.5444, Train Accuracy: 78.62\n",
            "Test Loss:  0.5899, Test Accuracy:  73.50\n"
          ]
        },
        {
          "name": "stderr",
          "output_type": "stream",
          "text": [
            " 60%|██████    | 3/5 [04:59<03:10, 95.09s/it] "
          ]
        },
        {
          "name": "stdout",
          "output_type": "stream",
          "text": [
            "\n",
            "------------------------------\n",
            "\n",
            "Epoch 3\n",
            "Train Loss: 0.5565, Train Accuracy: 77.12\n",
            "Test Loss:  0.6565, Test Accuracy:  74.00\n"
          ]
        },
        {
          "name": "stderr",
          "output_type": "stream",
          "text": [
            " 80%|████████  | 4/5 [06:25<01:31, 91.31s/it]"
          ]
        },
        {
          "name": "stdout",
          "output_type": "stream",
          "text": [
            "\n",
            "------------------------------\n",
            "\n",
            "Epoch 4\n",
            "Train Loss: 0.5075, Train Accuracy: 79.25\n",
            "Test Loss:  0.4256, Test Accuracy:  82.00\n"
          ]
        },
        {
          "name": "stderr",
          "output_type": "stream",
          "text": [
            "100%|██████████| 5/5 [07:50<00:00, 94.07s/it]"
          ]
        },
        {
          "name": "stdout",
          "output_type": "stream",
          "text": [
            "\n",
            "------------------------------\n",
            "\n",
            "Epoch 5\n",
            "Train Loss: 0.5158, Train Accuracy: 80.12\n",
            "Test Loss:  0.4398, Test Accuracy:  80.50\n"
          ]
        },
        {
          "name": "stderr",
          "output_type": "stream",
          "text": [
            "\n"
          ]
        }
      ],
      "source": [
        "import os\n",
        "from torch import nn, optim\n",
        "from engine import create_data_loaders, train\n",
        "from utils import set_seeds\n",
        "\n",
        "BATCH_SIZE = 32\n",
        "NUM_WORKERS = os.cpu_count()\n",
        "NUM_EPOCHS = 5\n",
        "\n",
        "train_loader, test_loader, class_names, class_dict = create_data_loaders(path_to_data, batch_size=BATCH_SIZE, num_workers=NUM_WORKERS, train_transform=effnetb0_transform, test_transform=effnetb0_transform)\n",
        "\n",
        "effnetb0_model.classifier = nn.Sequential(\n",
        "    nn.Dropout(p=0.2, inplace=True),\n",
        "    nn.Linear(in_features=1280,\n",
        "              out_features=len(class_names)).to(device)\n",
        ")\n",
        "\n",
        "loss_fn = nn.CrossEntropyLoss()\n",
        "optimizer = optim.Adam(effnetb0_model.parameters(), lr=0.001)\n",
        "\n",
        "wandb.init(project=\"pytorch-loop-integrals\",\n",
        "           config={\"model\": \"EfficientNet-B0\",\n",
        "                   \"batch_size\": BATCH_SIZE,\n",
        "                   \"num_workers\": NUM_WORKERS,\n",
        "                   \"num_epochs\": NUM_EPOCHS,\n",
        "                   \"Loss Function\": str(loss_fn),\n",
        "                   \"Optimizer\": str(optimizer)})\n",
        "\n",
        "set_seeds()\n",
        "train(device, effnetb0_model, train_loader, test_loader, loss_fn, optimizer, epochs=NUM_EPOCHS)"
      ]
    },
    {
      "cell_type": "code",
      "execution_count": 8,
      "metadata": {},
      "outputs": [
        {
          "data": {
            "text/html": [
              "Finishing last run (ID:2myqlxwe) before initializing another..."
            ],
            "text/plain": [
              "<IPython.core.display.HTML object>"
            ]
          },
          "metadata": {},
          "output_type": "display_data"
        },
        {
          "name": "stderr",
          "output_type": "stream",
          "text": [
            "wandb: WARNING Source type is set to 'repo' but some required information is missing from the environment. A job will not be created from this run. See https://docs.wandb.ai/guides/launch/create-job\n"
          ]
        },
        {
          "data": {
            "text/html": [
              "<style>\n",
              "    table.wandb td:nth-child(1) { padding: 0 10px; text-align: left ; width: auto;} td:nth-child(2) {text-align: left ; width: 100%}\n",
              "    .wandb-row { display: flex; flex-direction: row; flex-wrap: wrap; justify-content: flex-start; width: 100% }\n",
              "    .wandb-col { display: flex; flex-direction: column; flex-basis: 100%; flex: 1; padding: 10px; }\n",
              "    </style>\n",
              "<div class=\"wandb-row\"><div class=\"wandb-col\"><h3>Run history:</h3><br/><table class=\"wandb\"><tr><td>Test Accuracy</td><td>▁▁▁█▇</td></tr><tr><td>Test Loss</td><td>█▅▆▁▁</td></tr><tr><td>Train Accuracy</td><td>▁▇▅▇█</td></tr><tr><td>Train Loss</td><td>█▂▃▁▁</td></tr></table><br/></div><div class=\"wandb-col\"><h3>Run summary:</h3><br/><table class=\"wandb\"><tr><td>Test Accuracy</td><td>80.5</td></tr><tr><td>Test Loss</td><td>0.43976</td></tr><tr><td>Train Accuracy</td><td>80.125</td></tr><tr><td>Train Loss</td><td>0.51585</td></tr></table><br/></div></div>"
            ],
            "text/plain": [
              "<IPython.core.display.HTML object>"
            ]
          },
          "metadata": {},
          "output_type": "display_data"
        },
        {
          "data": {
            "text/html": [
              " View run <strong style=\"color:#cdcd00\">ruby-dawn-2</strong> at: <a href='https://wandb.ai/reedhodges/pytorch-loop-integrals/runs/2myqlxwe' target=\"_blank\">https://wandb.ai/reedhodges/pytorch-loop-integrals/runs/2myqlxwe</a><br/>Synced 5 W&B file(s), 0 media file(s), 0 artifact file(s) and 0 other file(s)"
            ],
            "text/plain": [
              "<IPython.core.display.HTML object>"
            ]
          },
          "metadata": {},
          "output_type": "display_data"
        },
        {
          "data": {
            "text/html": [
              "Find logs at: <code>./wandb/run-20240318_132747-2myqlxwe/logs</code>"
            ],
            "text/plain": [
              "<IPython.core.display.HTML object>"
            ]
          },
          "metadata": {},
          "output_type": "display_data"
        },
        {
          "data": {
            "text/html": [
              "Successfully finished last run (ID:2myqlxwe). Initializing new run:<br/>"
            ],
            "text/plain": [
              "<IPython.core.display.HTML object>"
            ]
          },
          "metadata": {},
          "output_type": "display_data"
        },
        {
          "data": {
            "text/html": [
              "Tracking run with wandb version 0.16.4"
            ],
            "text/plain": [
              "<IPython.core.display.HTML object>"
            ]
          },
          "metadata": {},
          "output_type": "display_data"
        },
        {
          "data": {
            "text/html": [
              "Run data is saved locally in <code>/Users/reedhodges/Documents/GitHub/divergent_integrals_nn/wandb/run-20240318_133605-m7bkrtoz</code>"
            ],
            "text/plain": [
              "<IPython.core.display.HTML object>"
            ]
          },
          "metadata": {},
          "output_type": "display_data"
        },
        {
          "data": {
            "text/html": [
              "Syncing run <strong><a href='https://wandb.ai/reedhodges/pytorch-loop-integrals/runs/m7bkrtoz' target=\"_blank\">grateful-dream-3</a></strong> to <a href='https://wandb.ai/reedhodges/pytorch-loop-integrals' target=\"_blank\">Weights & Biases</a> (<a href='https://wandb.me/run' target=\"_blank\">docs</a>)<br/>"
            ],
            "text/plain": [
              "<IPython.core.display.HTML object>"
            ]
          },
          "metadata": {},
          "output_type": "display_data"
        },
        {
          "data": {
            "text/html": [
              " View project at <a href='https://wandb.ai/reedhodges/pytorch-loop-integrals' target=\"_blank\">https://wandb.ai/reedhodges/pytorch-loop-integrals</a>"
            ],
            "text/plain": [
              "<IPython.core.display.HTML object>"
            ]
          },
          "metadata": {},
          "output_type": "display_data"
        },
        {
          "data": {
            "text/html": [
              " View run at <a href='https://wandb.ai/reedhodges/pytorch-loop-integrals/runs/m7bkrtoz' target=\"_blank\">https://wandb.ai/reedhodges/pytorch-loop-integrals/runs/m7bkrtoz</a>"
            ],
            "text/plain": [
              "<IPython.core.display.HTML object>"
            ]
          },
          "metadata": {},
          "output_type": "display_data"
        },
        {
          "name": "stderr",
          "output_type": "stream",
          "text": [
            " 20%|██        | 1/5 [01:25<05:42, 85.64s/it]"
          ]
        },
        {
          "name": "stdout",
          "output_type": "stream",
          "text": [
            "\n",
            "------------------------------\n",
            "\n",
            "Epoch 1\n",
            "Train Loss: 0.4840, Train Accuracy: 82.50\n",
            "Test Loss:  0.4441, Test Accuracy:  80.00\n"
          ]
        },
        {
          "name": "stderr",
          "output_type": "stream",
          "text": [
            " 40%|████      | 2/5 [02:52<04:19, 86.38s/it]"
          ]
        },
        {
          "name": "stdout",
          "output_type": "stream",
          "text": [
            "\n",
            "------------------------------\n",
            "\n",
            "Epoch 2\n",
            "Train Loss: 0.4584, Train Accuracy: 82.38\n",
            "Test Loss:  0.4446, Test Accuracy:  80.50\n"
          ]
        },
        {
          "name": "stderr",
          "output_type": "stream",
          "text": [
            " 60%|██████    | 3/5 [04:18<02:52, 86.37s/it]"
          ]
        },
        {
          "name": "stdout",
          "output_type": "stream",
          "text": [
            "\n",
            "------------------------------\n",
            "\n",
            "Epoch 3\n",
            "Train Loss: 0.4980, Train Accuracy: 80.38\n",
            "Test Loss:  0.4454, Test Accuracy:  81.00\n"
          ]
        },
        {
          "name": "stderr",
          "output_type": "stream",
          "text": [
            " 80%|████████  | 4/5 [05:44<01:26, 86.11s/it]"
          ]
        },
        {
          "name": "stdout",
          "output_type": "stream",
          "text": [
            "\n",
            "------------------------------\n",
            "\n",
            "Epoch 4\n",
            "Train Loss: 0.4766, Train Accuracy: 81.38\n",
            "Test Loss:  0.4473, Test Accuracy:  80.00\n"
          ]
        },
        {
          "name": "stderr",
          "output_type": "stream",
          "text": [
            "100%|██████████| 5/5 [07:10<00:00, 86.08s/it]"
          ]
        },
        {
          "name": "stdout",
          "output_type": "stream",
          "text": [
            "\n",
            "------------------------------\n",
            "\n",
            "Epoch 5\n",
            "Train Loss: 0.4993, Train Accuracy: 80.62\n",
            "Test Loss:  0.4436, Test Accuracy:  80.50\n"
          ]
        },
        {
          "name": "stderr",
          "output_type": "stream",
          "text": [
            "\n"
          ]
        }
      ],
      "source": [
        "import os\n",
        "from torch import nn, optim\n",
        "from engine import create_data_loaders, train\n",
        "from utils import set_seeds\n",
        "\n",
        "BATCH_SIZE = 32\n",
        "NUM_WORKERS = os.cpu_count()\n",
        "NUM_EPOCHS = 5\n",
        "\n",
        "train_loader, test_loader, class_names, class_dict = create_data_loaders(path_to_data, batch_size=BATCH_SIZE, num_workers=NUM_WORKERS, train_transform=vitb16_transform, test_transform=vitb16_transform)\n",
        "\n",
        "vitb16_model.heads = nn.Linear(in_features=768,\n",
        "                               out_features=len(class_names)\n",
        "                               ).to(device)\n",
        "\n",
        "loss_fn = nn.CrossEntropyLoss()\n",
        "optimizer = optim.Adam(vitb16_model.parameters(), lr=0.001)\n",
        "\n",
        "wandb.init(project=\"pytorch-loop-integrals\",\n",
        "           config={\"model\": \"ViT-B_16\",\n",
        "                   \"batch_size\": BATCH_SIZE,\n",
        "                   \"num_workers\": NUM_WORKERS,\n",
        "                   \"num_epochs\": NUM_EPOCHS,\n",
        "                   \"Loss Function\": str(loss_fn),\n",
        "                   \"Optimizer\": str(optimizer)})\n",
        " \n",
        "set_seeds()\n",
        "train(device, effnetb0_model, train_loader, test_loader, loss_fn, optimizer, epochs=NUM_EPOCHS)"
      ]
    },
    {
      "cell_type": "code",
      "execution_count": null,
      "metadata": {},
      "outputs": [],
      "source": []
    }
  ],
  "metadata": {
    "colab": {
      "authorship_tag": "ABX9TyNelMyb4UOclRPWI0D6bGvz",
      "include_colab_link": true,
      "provenance": []
    },
    "kernelspec": {
      "display_name": "Python 3",
      "name": "python3"
    },
    "language_info": {
      "codemirror_mode": {
        "name": "ipython",
        "version": 3
      },
      "file_extension": ".py",
      "mimetype": "text/x-python",
      "name": "python",
      "nbconvert_exporter": "python",
      "pygments_lexer": "ipython3",
      "version": "3.10.13"
    }
  },
  "nbformat": 4,
  "nbformat_minor": 0
}
